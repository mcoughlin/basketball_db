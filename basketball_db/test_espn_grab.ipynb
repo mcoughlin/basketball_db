{
 "cells": [
  {
   "cell_type": "code",
   "execution_count": 1,
   "metadata": {
    "collapsed": false
   },
   "outputs": [],
   "source": [
    "from espn import get_games, parse_plays, adjust_game\n",
    "from bs4 import BeautifulSoup\n",
    "import requests\n",
    "import json"
   ]
  },
  {
   "cell_type": "code",
   "execution_count": 2,
   "metadata": {
    "collapsed": false
   },
   "outputs": [
    {
     "name": "stdout",
     "output_type": "stream",
     "text": [
      "400899608\n",
      "http://scores.espn.go.com/nba/playbyplay?gameid=400899608\n"
     ]
    }
   ],
   "source": [
    "r = requests.get('http://scores.espn.go.com/nba/scoreboard?date=20161116')\n",
    "soup = BeautifulSoup(r.text, 'lxml')\n",
    "script = soup.findAll('script')\n",
    "data = script[9].text.split(' = ')[0]\n",
    "#print data\n",
    "#print data.split(' = ')[0]\n",
    "#print data.text\n",
    "jsonValue = '{%s}' % (data.split('{', 1)[1].rsplit('}', 1)[0],)\n",
    "#print jsonValue\n",
    "value = json.loads(jsonValue)\n",
    "print value['events'][0]['id']\n",
    "html = 'http://scores.espn.go.com/nba/playbyplay?gameid=%s' % value['events'][0]['id']\n",
    "print html\n",
    "#print soup"
   ]
  },
  {
   "cell_type": "code",
   "execution_count": 9,
   "metadata": {
    "collapsed": false
   },
   "outputs": [
    {
     "name": "stdout",
     "output_type": "stream",
     "text": [
      "timeTEAMPLAYSCORE12:00Marcin Gortat vs. Jahlil Okafor (Robert Covington gains possession)0 - 011:44Robert Covington  misses 26-foot three point jumper0 - 011:42John Wall defensive rebound0 - 011:26Markieff Morris offensive foul  (Ersan Ilyasova draws the foul)0 - 011:26Markieff Morris  turnover0 - 011:11Ersan Ilyasova  misses 26-foot three point jumper0 - 011:10Otto Porter Jr. defensive rebound0 - 011:06Markieff Morris offensive foul  (Gerald Henderson draws the foul)0 - 011:06Markieff Morris  turnover0 - 011:06Andrew Nicholson enters the game for Markieff Morris0 - 010:55Gerald Henderson  misses 17-foot two point jumper0 - 010:53Wizards defensive team rebound0 - 010:53Jahlil Okafor loose ball foul  (Marcin Gortat draws the foul)0 - 010:48Sergio Rodriguez personal foul  (Sheldon McClellan draws the foul)0 - 010:40Sheldon McClellan makes 18-foot two point shot2 - 010:12Sergio Rodriguez makes 18-foot jumper (Gerald Henderson assists)2 - 29:57Sheldon McClellan makes 14-foot two point shot4 - 29:40Jahlil Okafor  misses 10-foot two point shot4 - 29:3876ers offensive team rebound4 - 29:36Robert Covington  misses 26-foot three point jumper4 - 29:34Marcin Gortat defensive rebound4 - 29:23John Wall  misses 17-foot two point jumper4 - 29:22Ersan Ilyasova defensive rebound4 - 29:12Robert Covington Out-of-Bounds Bad Pass Turnover4 - 28:56Marcin Gortat  misses 7-foot hook shot4 - 28:56Ersan Ilyasova defensive rebound4 - 28:44Jahlil Okafor makes layup4 - 48:33Jahlil Okafor personal foul  (Marcin Gortat draws the foul)4 - 48:33Richaun Holmes enters the game for Jahlil Okafor4 - 48:17John Wall  misses 17-foot two point jumper4 - 48:15Wizards offensive team rebound4 - 48:15Richaun Holmes loose ball foul  (Marcin Gortat draws the foul)4 - 48:03Otto Porter Jr.  misses two point shot4 - 48:03Robert Covington defensive rebound4 - 47:56Sergio Rodriguez makes 12-foot two point shot (Robert Covington assists)4 - 67:41Otto Porter Jr.  misses 16-foot jumper4 - 67:41Robert Covington defensive rebound4 - 67:33Ersan Ilyasova makes 25-foot  three point jumper  (Sergio Rodriguez assists)4 - 97:18John Wall  bad pass (Richaun Holmes steals)4 - 97:11Gerald Henderson  misses 6-foot jumper4 - 97:11Ersan Ilyasova offensive rebound4 - 97:09Ersan Ilyasova makes two point shot4 - 117:03Wizards Full timeout4 - 116:54John Wall  lost ball turnover (Richaun Holmes steals)4 - 116:39Gerald Henderson  misses 8-foot jumper4 - 116:37Marcin Gortat defensive rebound4 - 116:31Otto Porter Jr. makes two point shot6 - 116:18Robert Covington  misses 25-foot three point jumper6 - 116:18Marcin Gortat defensive rebound6 - 116:05Sheldon McClellan  misses 27-foot three point jumper6 - 116:05Otto Porter Jr. offensive rebound6 - 115:56Richaun Holmes personal foul  (John Wall draws the foul)6 - 115:56John Wall makes free throw 1 of 27 - 115:56Dario Saric enters the game for Robert Covington7 - 115:56Nik Stauskas enters the game for Richaun Holmes7 - 115:56Marcus Thornton enters the game for Sheldon McClellan7 - 115:56John Wall makes free throw 2 of 28 - 115:41Dario Saric  misses 17-foot jumper8 - 115:39Otto Porter Jr. defensive rebound8 - 115:30John Wall makes two point shot10 - 115:15Nik Stauskas makes 26-foot  three point jumper10 - 145:01Marcin Gortat makes two point shot (John Wall assists)12 - 144:45Dario Saric makes layup (Sergio Rodriguez assists)12 - 164:33John Wall  misses 17-foot two point jumper12 - 164:3176ers defensive team rebound12 - 164:31Andrew Nicholson personal foul  (Gerald Henderson draws the foul)12 - 164:31T.J. McConnell enters the game for Sergio Rodriguez12 - 164:31Hollis Thompson enters the game for Gerald Henderson12 - 164:31Tomas Satoransky enters the game for John Wall12 - 164:16Ersan Ilyasova  misses two point shot12 - 164:16Marcin Gortat defensive rebound12 - 164:03Otto Porter Jr.  misses 15-foot jumper12 - 164:03Dario Saric defensive rebound12 - 163:55Dario Saric makes 25-foot  three point jumper  (Hollis Thompson assists)12 - 193:34Marcus Thornton  misses 26-foot three point jumper12 - 193:33Dario Saric defensive rebound12 - 193:25Dario Saric  bad pass (Otto Porter Jr. steals)12 - 193:21Tomas Satoransky  bad pass (T.J. McConnell steals)12 - 193:15Ersan Ilyasova makes  three point jumper  (Nik Stauskas assists)12 - 223:09Wizards 20 Sec. timeout12 - 223:09Robert Covington enters the game for Ersan Ilyasova12 - 223:00Marcus Thornton  misses 17-foot jumper12 - 223:00Robert Covington defensive rebound12 - 222:50Hollis Thompson  misses jumper12 - 222:49Dario Saric offensive rebound12 - 222:48Dario Saric makes two point shot12 - 242:26Otto Porter Jr.  misses two point shot12 - 242:25Dario Saric defensive rebound12 - 242:23Tomas Satoransky personal foul  (T.J. McConnell draws the foul)12 - 242:2376ers Full timeout12 - 242:23Kelly Oubre Jr. enters the game for Marcin Gortat12 - 242:11Tomas Satoransky shooting foul  (Robert Covington draws the foul)12 - 242:11Robert Covington makes free throw 1 of 212 - 252:11Trey Burke enters the game for Tomas Satoransky12 - 252:11Robert Covington misses free throw 2 of 212 - 252:11Robert Covington offensive rebound12 - 252:05Hollis Thompson makes jumper (Robert Covington assists)12 - 271:40Trey Burke  misses 10-foot12 - 271:39Dario Saric defensive rebound12 - 271:21Dario Saric Out-of-Bounds Bad Pass Turnover12 - 271:04T.J. McConnell personal foul  (Otto Porter Jr. draws the foul)12 - 271:04Otto Porter Jr. makes free throw 1 of 213 - 271:04Otto Porter Jr. misses free throw 2 of 213 - 271:02Dario Saric defensive rebound13 - 270:51Hollis Thompson makes 4-foot two point shot (T.J. McConnell assists)13 - 290:37Kelly Oubre Jr. makes 8-foot two point shot (Marcus Thornton assists)15 - 290:21Dario Saric  misses 25-foot three point jumper15 - 290:20Otto Porter Jr. defensive rebound15 - 290:01Trey Burke  misses two point shot15 - 290:00Robert Covington defensive rebound15 - 290:00End of the 1st Quarter15 - 29\n",
      "[u'12:00', u'Marcin Gortat vs. Jahlil Okafor (Robert Covington gains possession)', u'0 - 0']\n"
     ]
    },
    {
     "ename": "IndexError",
     "evalue": "list index out of range",
     "output_type": "error",
     "traceback": [
      "\u001b[0;31m---------------------------------------------------------------------------\u001b[0m",
      "\u001b[0;31mIndexError\u001b[0m                                Traceback (most recent call last)",
      "\u001b[0;32m<ipython-input-9-114e0335966b>\u001b[0m in \u001b[0;36m<module>\u001b[0;34m()\u001b[0m\n\u001b[1;32m      8\u001b[0m     \u001b[0mrows\u001b[0m \u001b[0;34m=\u001b[0m \u001b[0;34m[\u001b[0m\u001b[0mlist\u001b[0m\u001b[0;34m(\u001b[0m\u001b[0mtr\u001b[0m\u001b[0;34m(\u001b[0m\u001b[0mtext\u001b[0m\u001b[0;34m=\u001b[0m\u001b[0mTrue\u001b[0m\u001b[0;34m)\u001b[0m\u001b[0;34m)\u001b[0m \u001b[0;32mfor\u001b[0m \u001b[0mtr\u001b[0m \u001b[0;32min\u001b[0m \u001b[0mtable\u001b[0m\u001b[0;34m.\u001b[0m\u001b[0mfindAll\u001b[0m\u001b[0;34m(\u001b[0m\u001b[0;34m'tr'\u001b[0m\u001b[0;34m)\u001b[0m\u001b[0;34m]\u001b[0m\u001b[0;34m\u001b[0m\u001b[0m\n\u001b[1;32m      9\u001b[0m     \u001b[0;32mprint\u001b[0m \u001b[0mrows\u001b[0m\u001b[0;34m[\u001b[0m\u001b[0;36m0\u001b[0m\u001b[0;34m]\u001b[0m\u001b[0;34m\u001b[0m\u001b[0m\n\u001b[0;32m---> 10\u001b[0;31m     \u001b[0mgame\u001b[0m \u001b[0;34m=\u001b[0m \u001b[0madjust_game\u001b[0m\u001b[0;34m(\u001b[0m\u001b[0mrows\u001b[0m\u001b[0;34m,\u001b[0m \u001b[0;34m'nba'\u001b[0m\u001b[0;34m)\u001b[0m\u001b[0;34m\u001b[0m\u001b[0m\n\u001b[0m\u001b[1;32m     11\u001b[0m     \u001b[0mteams\u001b[0m \u001b[0;34m=\u001b[0m \u001b[0mthead\u001b[0m\u001b[0;34m[\u001b[0m\u001b[0;36m0\u001b[0m\u001b[0;34m]\u001b[0m\u001b[0;34m.\u001b[0m\u001b[0mfindChildren\u001b[0m\u001b[0;34m(\u001b[0m\u001b[0;34m'th'\u001b[0m\u001b[0;34m,\u001b[0m \u001b[0;34m{\u001b[0m\u001b[0;34m'width'\u001b[0m\u001b[0;34m:\u001b[0m\u001b[0;34m'40%'\u001b[0m\u001b[0;34m}\u001b[0m\u001b[0;34m)\u001b[0m\u001b[0;34m\u001b[0m\u001b[0m\n",
      "\u001b[0;32m/Users/meyers/git_repos/bball/bball/espn.pyc\u001b[0m in \u001b[0;36madjust_game\u001b[0;34m(plays, league)\u001b[0m\n\u001b[1;32m     74\u001b[0m     \u001b[0mend_of_quarter\u001b[0m \u001b[0;34m=\u001b[0m \u001b[0mFalse\u001b[0m\u001b[0;34m\u001b[0m\u001b[0m\n\u001b[1;32m     75\u001b[0m     \u001b[0;32mfor\u001b[0m \u001b[0mplay\u001b[0m \u001b[0;32min\u001b[0m \u001b[0mplays\u001b[0m\u001b[0;34m:\u001b[0m\u001b[0;34m\u001b[0m\u001b[0m\n\u001b[0;32m---> 76\u001b[0;31m         \u001b[0mnew_play\u001b[0m \u001b[0;34m=\u001b[0m \u001b[0m_play_as_dict\u001b[0m\u001b[0;34m(\u001b[0m\u001b[0mplay\u001b[0m\u001b[0;34m)\u001b[0m\u001b[0;34m\u001b[0m\u001b[0m\n\u001b[0m\u001b[1;32m     77\u001b[0m         \u001b[0mtime\u001b[0m \u001b[0;34m=\u001b[0m \u001b[0mplay\u001b[0m\u001b[0;34m[\u001b[0m\u001b[0;36m0\u001b[0m\u001b[0;34m]\u001b[0m\u001b[0;34m\u001b[0m\u001b[0m\n\u001b[1;32m     78\u001b[0m         time_dict, quarter, end_of_quarter = _adjust_time(time,\n",
      "\u001b[0;32m/Users/meyers/git_repos/bball/bball/espn.pyc\u001b[0m in \u001b[0;36m_play_as_dict\u001b[0;34m(play)\u001b[0m\n\u001b[1;32m    175\u001b[0m         \u001b[0mnew_play\u001b[0m\u001b[0;34m[\u001b[0m\u001b[0;34m'official_play'\u001b[0m\u001b[0;34m]\u001b[0m \u001b[0;34m=\u001b[0m \u001b[0mNone\u001b[0m\u001b[0;34m\u001b[0m\u001b[0m\n\u001b[1;32m    176\u001b[0m         \u001b[0maway_play\u001b[0m \u001b[0;34m=\u001b[0m \u001b[0mplay\u001b[0m\u001b[0;34m[\u001b[0m\u001b[0;36m1\u001b[0m\u001b[0;34m]\u001b[0m\u001b[0;34m\u001b[0m\u001b[0m\n\u001b[0;32m--> 177\u001b[0;31m         \u001b[0mhome_play\u001b[0m \u001b[0;34m=\u001b[0m \u001b[0mplay\u001b[0m\u001b[0;34m[\u001b[0m\u001b[0;36m3\u001b[0m\u001b[0;34m]\u001b[0m\u001b[0;34m\u001b[0m\u001b[0m\n\u001b[0m\u001b[1;32m    178\u001b[0m         \u001b[0;32mif\u001b[0m \u001b[0mlen\u001b[0m\u001b[0;34m(\u001b[0m\u001b[0maway_play\u001b[0m\u001b[0;34m)\u001b[0m \u001b[0;34m<\u001b[0m \u001b[0;36m10\u001b[0m\u001b[0;34m:\u001b[0m\u001b[0;34m\u001b[0m\u001b[0m\n\u001b[1;32m    179\u001b[0m             \u001b[0mnew_play\u001b[0m\u001b[0;34m[\u001b[0m\u001b[0;34m'away_play'\u001b[0m\u001b[0;34m]\u001b[0m \u001b[0;34m=\u001b[0m \u001b[0mNone\u001b[0m\u001b[0;34m\u001b[0m\u001b[0m\n",
      "\u001b[0;31mIndexError\u001b[0m: list index out of range"
     ]
    }
   ],
   "source": [
    "soup = BeautifulSoup(requests.get(html).text)\n",
    "for ii in (1,2,3,4):\n",
    "    idstr='gp-quarter-%d' % ii\n",
    "    qrtr_data = soup.find('div', {'id':idstr})\n",
    "    table = qrtr_data.find('table')\n",
    "    print table.text\n",
    "    thead = [thead.extract() for thead in table.findAll('thead')]\n",
    "    rows = [list(tr(text=True)) for tr in table.findAll('tr')]\n",
    "    print rows[0]\n",
    "    game = adjust_game(rows, 'nba')\n",
    "    teams = thead[0].findChildren('th', {'width':'40%'})"
   ]
  },
  {
   "cell_type": "code",
   "execution_count": null,
   "metadata": {
    "collapsed": true
   },
   "outputs": [],
   "source": []
  }
 ],
 "metadata": {
  "kernelspec": {
   "display_name": "Python 2",
   "language": "python",
   "name": "python2"
  },
  "language_info": {
   "codemirror_mode": {
    "name": "ipython",
    "version": 2
   },
   "file_extension": ".py",
   "mimetype": "text/x-python",
   "name": "python",
   "nbconvert_exporter": "python",
   "pygments_lexer": "ipython2",
   "version": "2.7.12"
  }
 },
 "nbformat": 4,
 "nbformat_minor": 1
}
