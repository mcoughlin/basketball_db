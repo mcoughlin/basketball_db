{
 "cells": [
  {
   "cell_type": "code",
   "execution_count": 1,
   "metadata": {
    "collapsed": true
   },
   "outputs": [],
   "source": [
    "from bs4 import BeautifulSoup\n",
    "import requests\n",
    "import pandas as pd\n",
    "from collections import OrderedDict\n",
    "from datetime import datetime\n",
    "# also requires:\n",
    "# `pip install tables`\n",
    "# to be able to write to hdf5 files"
   ]
  },
  {
   "cell_type": "code",
   "execution_count": 2,
   "metadata": {
    "collapsed": false
   },
   "outputs": [],
   "source": [
    "BASE_URL = 'http://www.basketball-reference.com/'\n",
    "TEAM = 'MIN'\n",
    "YR = 2017 # second year in 2016/2017\n",
    "soup = BeautifulSoup(requests.get('http://www.basketball-reference.com/teams/%s/%d_games.html' % (TEAM, YR)).text,'lxml')"
   ]
  },
  {
   "cell_type": "code",
   "execution_count": 3,
   "metadata": {
    "collapsed": false
   },
   "outputs": [
    {
     "name": "stdout",
     "output_type": "stream",
     "text": [
      "/boxscores/201610260MEM.html\n"
     ]
    }
   ],
   "source": [
    "# extract box score link\n",
    "box_scores = soup.find('table',{'id':'games'}).findAll('td',{'data-stat':'box_score_text'})\n",
    "links = [box_scores[ii].a['href'] for ii in range(len(box_scores))]\n",
    "print links[0]"
   ]
  },
  {
   "cell_type": "code",
   "execution_count": 4,
   "metadata": {
    "collapsed": false
   },
   "outputs": [
    {
     "name": "stdout",
     "output_type": "stream",
     "text": [
      "http://www.basketball-reference.com/boxscores/pbp/201610260MEM.html\n",
      "http://www.basketball-reference.com/boxscores/shot-chart/201610260MEM.html\n",
      "http://www.basketball-reference.com//boxscores/201610260MEM.html\n"
     ]
    }
   ],
   "source": [
    "# create play by play link\n",
    "def _get_pbp_link(link):\n",
    "    sp = link.split('/')\n",
    "    newlink = sp[-2] + '/pbp/' + sp[-1]\n",
    "    return newlink\n",
    "def _get_shot_chart_link(link):\n",
    "    sp = link.split('/')\n",
    "    newlink = sp[-2] + '/shot-chart/' + sp[-1]\n",
    "    return newlink\n",
    "pbp_links = [_get_pbp_link(link) for link in links]\n",
    "sc_links = [_get_shot_chart_link(link) for link in links]\n",
    "bs_links = [BASE_URL+link for link in links]\n",
    "print BASE_URL + pbp_links[0]\n",
    "print BASE_URL + sc_links[0]\n",
    "print bs_links[0]"
   ]
  },
  {
   "cell_type": "code",
   "execution_count": 5,
   "metadata": {
    "collapsed": false
   },
   "outputs": [],
   "source": [
    "# extract table from pbp page\n",
    "soup_pbp = BeautifulSoup(requests.get(BASE_URL+pbp_links[0]).text,'lxml')\n",
    "\n",
    "table = soup_pbp.find('table',{'id':'pbp'})\n",
    "rows =table.findAll('tr')\n",
    "data = {}\n",
    "data['times'] = []\n",
    "data['ht_plays'] = []\n",
    "data['at_plays'] = []\n",
    "data['score_after'] = []\n",
    "data['ht_pts'] = []\n",
    "data['at_pts'] = []\n",
    "data['qrtr'] = []\n",
    "qrtr = 0\n",
    "for row in rows:\n",
    "    dat = row.findAll('td')\n",
    "    if len(dat)== 2 and dat[1].text[:5]=='Start':\n",
    "        qrtr += 1\n",
    "    if len(dat)==6:\n",
    "        data['times'].append(dat[0].text)\n",
    "        data['ht_plays'].append(dat[1].text)\n",
    "        data['ht_pts'].append(dat[2].text)\n",
    "        data['score_after'].append(dat[3].text)\n",
    "        data['at_pts'].append(dat[4].text)\n",
    "        data['at_plays'].append(dat[5].text)\n",
    "        data['qrtr'].append(qrtr)\n",
    "        \n",
    "pbpFrame = pd.DataFrame(data)"
   ]
  },
  {
   "cell_type": "code",
   "execution_count": 6,
   "metadata": {
    "collapsed": false
   },
   "outputs": [],
   "source": [
    "soup_sc = BeautifulSoup(requests.get(BASE_URL+sc_links[0]).text,'lxml')\n",
    "\n",
    "def _extract_shot_chart(soup_sc, team=None):\n",
    "    id_tag = 'shots-' + team.upper()\n",
    "    court_width=50\n",
    "    court_len=47\n",
    "    shot_dict = {}\n",
    "    shot_dict['shot_xs'] = []\n",
    "    shot_dict['shot_ys'] = []\n",
    "    shot_dict['shot_time'] = []\n",
    "    shot_dict['player'] = []\n",
    "    shots = soup_sc.find('div',{'id':id_tag}).findAll('div',{'class','tooltip'})\n",
    "    for shot in shots:\n",
    "        sp = shot['tip'].split('<br>')\n",
    "        shot_dict['player'].append(shot['class'][2][2:])\n",
    "        shot_dict['shot_time'].append(sp[0].split(',')[1][1:-10])\n",
    "        # get shot coordinates. Image is 500 x 472 px,\n",
    "        # court is 50 ft. x 47 ft, so just divide by 10.\n",
    "        shot_dict['shot_xs'].append(int(shot['style'].split(':')[-1][:-3])/10.)\n",
    "        shot_dict['shot_ys'].append(int(shot['style'].split(':')[1][:-7])/10.)\n",
    "\n",
    "    shotFrame = pd.DataFrame(shot_dict)\n",
    "    return shotFrame\n",
    "shotFrame = _extract_shot_chart(soup_sc, team='mem')"
   ]
  },
  {
   "cell_type": "code",
   "execution_count": 7,
   "metadata": {
    "collapsed": false
   },
   "outputs": [
    {
     "name": "stderr",
     "output_type": "stream",
     "text": [
      "/Users/meyers/opt/bball/lib/python2.7/site-packages/pandas/core/generic.py:1138: PerformanceWarning: \n",
      "your performance may suffer as PyTables will pickle object types that it cannot\n",
      "map directly to c-types [inferred_type->unicode,key->block1_values] [items->['at_plays', 'at_pts', 'ht_plays', 'ht_pts', 'score_after', 'times']]\n",
      "\n",
      "  return pytables.to_hdf(path_or_buf, key, self, **kwargs)\n"
     ]
    }
   ],
   "source": [
    "shotFrame.to_hdf('test_game.hdf5','shotFrame')\n",
    "pbpFrame.to_hdf('test_game.hdf5','pbpFrame')"
   ]
  },
  {
   "cell_type": "code",
   "execution_count": 8,
   "metadata": {
    "collapsed": false
   },
   "outputs": [
    {
     "name": "stdout",
     "output_type": "stream",
     "text": [
      "http://www.basketball-reference.com//boxscores/201610260MEM.html\n",
      "       Starters     MP    FG   FGA    FG%   3P   3PA    3P%    FT   FTA  ...   \\\n",
      "0     townska01  36:29   9.0  20.0  0.450  2.0   5.0  0.400   1.0   1.0  ...    \n",
      "1     wiggian01  34:29   7.0  14.0  0.500  1.0   1.0  1.000  10.0  14.0  ...    \n",
      "2     dienggo01  34:01   5.0  10.0  0.500  0.0   1.0  0.000   2.0   2.0  ...    \n",
      "3     lavinza01  33:50   6.0  14.0  0.429  3.0   6.0  0.500   4.0   5.0  ...    \n",
      "4     rubiori01  33:27   1.0   5.0  0.200  0.0   1.0  0.000   2.0   5.0  ...    \n",
      "5     bjeline01  15:23   1.0   4.0  0.250  0.0   1.0  0.000   1.0   2.0  ...    \n",
      "6      dunnkr01  15:13   4.0   6.0  0.667  0.0   1.0  0.000   0.0   0.0  ...    \n",
      "7      rushbr01  13:39   0.0   3.0  0.000  0.0   1.0  0.000   0.0   0.0  ...    \n",
      "8     muhamsh01  13:31   1.0   6.0  0.167  0.0   1.0  0.000   0.0   0.0  ...    \n",
      "9     aldrico01   9:58   2.0   4.0  0.500  0.0   0.0  0.000   0.0   0.0  ...    \n",
      "10  Team Totals    240  36.0  86.0  0.419  6.0  18.0  0.333  20.0  29.0  ...    \n",
      "\n",
      "     ORB   DRB   TRB   AST  STL  BLK   TOV    PF   PTS   +/-  \n",
      "0    2.0   2.0   4.0   5.0  1.0  1.0   2.0   3.0  21.0 -13.0  \n",
      "1    4.0   3.0   7.0   0.0  0.0  1.0   2.0   1.0  25.0  -5.0  \n",
      "2    5.0   9.0  14.0   2.0  2.0  1.0   0.0   3.0  12.0   0.0  \n",
      "3    0.0   5.0   5.0   3.0  1.0  0.0   2.0   3.0  19.0  -4.0  \n",
      "4    1.0   3.0   4.0   8.0  0.0  0.0   2.0   4.0   4.0  -1.0  \n",
      "5    0.0   1.0   1.0   0.0  0.0  1.0   0.0   3.0   3.0   0.0  \n",
      "6    1.0   3.0   4.0   1.0  1.0  0.0   1.0   3.0   8.0  -6.0  \n",
      "7    0.0   2.0   2.0   1.0  0.0  0.0   1.0   1.0   0.0   3.0  \n",
      "8    1.0   1.0   2.0   0.0  0.0  0.0   0.0   0.0   2.0   1.0  \n",
      "9    1.0   1.0   2.0   0.0  1.0  1.0   0.0   2.0   4.0   5.0  \n",
      "10  15.0  30.0  45.0  20.0  6.0  5.0  10.0  23.0  98.0   0.0  \n",
      "\n",
      "[11 rows x 21 columns]\n",
      "      Starters     MP    FG   FGA    FG%    3P   3PA    3P%    FT   FTA  ...   \\\n",
      "0    harrian01  38:12   1.0   7.0  0.143   0.0   4.0  0.000   2.0   4.0  ...    \n",
      "1    gasolma01  32:27   7.0  17.0  0.412   1.0   3.0  0.333   3.0   4.0  ...    \n",
      "2    conlemi01  29:39   8.0  14.0  0.571   4.0   5.0  0.800   4.0   5.0  ...    \n",
      "3    greenja01  28:43   4.0  10.0  0.400   2.0   2.0  1.000   2.0   2.0  ...    \n",
      "4    ennisja01  28:11   5.0   8.0  0.625   2.0   4.0  0.500   3.0   4.0  ...    \n",
      "5    cartevi01  28:05   1.0   4.0  0.250   0.0   2.0  0.000   1.0   2.0  ...    \n",
      "6    randoza01  24:33   7.0  12.0  0.583   1.0   2.0  0.500   4.0   6.0  ...    \n",
      "7    baldwwa01  24:31   3.0   8.0  0.375   1.0   2.0  0.500   0.0   0.0  ...    \n",
      "8    davisde01   5:39   0.0   0.0  0.000   0.0   0.0  0.000   0.0   0.0  ...    \n",
      "9  Team Totals    240  36.0  80.0  0.450  11.0  24.0  0.458  19.0  27.0  ...    \n",
      "\n",
      "    ORB   DRB   TRB   AST  STL   BLK   TOV    PF    PTS   +/-  \n",
      "0   1.0   2.0   3.0   4.0  1.0   0.0   3.0   3.0    4.0   8.0  \n",
      "1   1.0   2.0   3.0   2.0  0.0   4.0   4.0   2.0   18.0   4.0  \n",
      "2   0.0   1.0   1.0   4.0  0.0   1.0   2.0   5.0   24.0  -3.0  \n",
      "3   4.0   3.0   7.0   1.0  0.0   1.0   1.0   4.0   12.0   4.0  \n",
      "4   1.0   5.0   6.0   0.0  1.0   0.0   0.0   3.0   15.0 -12.0  \n",
      "5   1.0   6.0   7.0   1.0  1.0   1.0   0.0   3.0    3.0  10.0  \n",
      "6   1.0  10.0  11.0   1.0  0.0   0.0   2.0   1.0   19.0  -1.0  \n",
      "7   2.0   3.0   5.0   6.0  3.0   3.0   1.0   2.0    7.0   3.0  \n",
      "8   0.0   2.0   2.0   0.0  0.0   1.0   0.0   2.0    0.0   7.0  \n",
      "9  11.0  34.0  45.0  19.0  6.0  11.0  13.0  25.0  102.0   0.0  \n",
      "\n",
      "[10 rows x 21 columns]\n"
     ]
    }
   ],
   "source": [
    "soup_bs = BeautifulSoup(requests.get(bs_links[0]).text,'lxml')\n",
    "print bs_links[0]\n",
    "def extract_box_score(soup_bs, team=None):\n",
    "    id_tag = 'box_' + team.lower() + '_basic'\n",
    "    tab = soup_bs.find('table',{'id':id_tag})\n",
    "    if len(tab)==0:\n",
    "        raise ValueError('You entered team: %s, which does not have a box score on this page' % team)\n",
    "    header_strs = [td.text for td in tab.findAll('tr')[1].findAll('th')]\n",
    "    box_score = OrderedDict()\n",
    "    for h in header_strs:\n",
    "        box_score[h] = []\n",
    "    for ii,tr in enumerate(tab.findAll('tr')):\n",
    "        tds = [td.text for td in tr.findAll('td')]\n",
    "        # if we're at the last row...continue\n",
    "        # if we have more than one non-header column\n",
    "        if len(tds) > 1:\n",
    "            # loop through header strings\n",
    "            for jj, head in enumerate(header_strs):\n",
    "                if jj == 0:\n",
    "                    # if we're on the first header string, then it's the player's name\n",
    "                    # and that's in a <th> tag, not <td> tag. If it's the last row,\n",
    "                    # then the player's \"name\" (\"Team Totals\") is in a different type\n",
    "                    # of th tag.\n",
    "                    if ii == len(tab.findAll('tr')) - 1:\n",
    "                        box_score[head].append(tr.find('th').text)\n",
    "                    else:\n",
    "                        box_score[head].append(tr.find('th')['data-append-csv'])\n",
    "                    continue\n",
    "                else:\n",
    "                    # otherwise, we loop through tds, and since\n",
    "                    # these are indexed off-set from headers (since\n",
    "                    # player names start), we index with jj-1\n",
    "                    if jj ==1:\n",
    "                        box_score[head].append(tds[jj-1])\n",
    "                    else:\n",
    "                        if tds[jj-1]=='':\n",
    "                            tds[jj-1] = 0\n",
    "                        box_score[head].append(float(tds[jj-1]))\n",
    "    box_score = pd.DataFrame(box_score)\n",
    "    return box_score\n",
    "\n",
    "away_bs = extract_box_score(soup_bs, team='min')\n",
    "home_bs = extract_box_score(soup_bs, team='mem')\n",
    "print away_bs\n",
    "print home_bs\n"
   ]
  },
  {
   "cell_type": "code",
   "execution_count": 9,
   "metadata": {
    "collapsed": false
   },
   "outputs": [
    {
     "name": "stdout",
     "output_type": "stream",
     "text": [
      "mem\n",
      "min\n"
     ]
    }
   ],
   "source": [
    "def _get_team(soup_bs,team='home'):\n",
    "    score_div = soup_bs.find('div',{'class':'scorebox'})\n",
    "    if team == 'home':\n",
    "        t = score_div.findAll('strong')[1].a['href'].split('/')[2].lower()\n",
    "    elif team=='away':\n",
    "        t = score_div.findAll('strong')[0].a['href'].split('/')[2].lower()\n",
    "    else:\n",
    "        raise ValueError('team must be either \"home\" or \"away\". Default is \"home\"')\n",
    "    return t\n",
    "print _get_team(soup_bs, team='home')\n",
    "print _get_team(soup_bs, team='away')"
   ]
  },
  {
   "cell_type": "code",
   "execution_count": 10,
   "metadata": {
    "collapsed": false
   },
   "outputs": [
    {
     "name": "stdout",
     "output_type": "stream",
     "text": [
      "2016-10-26 00:00:00\n"
     ]
    }
   ],
   "source": [
    "def _get_date(soup_bs):\n",
    "    content_div = soup_bs.find('div',{'id':'content'})\n",
    "    month_day = content_div.find('h1').text.split(',')[-2]\n",
    "    year = content_div.find('h1').text.split(',')[-1]\n",
    "    date = datetime.strptime(month_day.strip() + year,'%B %d %Y')\n",
    "    return date\n",
    "date = _get_date(soup_bs)\n",
    "print date"
   ]
  },
  {
   "cell_type": "code",
   "execution_count": 23,
   "metadata": {
    "collapsed": true
   },
   "outputs": [],
   "source": [
    "?pd.DataFrame()"
   ]
  },
  {
   "cell_type": "code",
   "execution_count": 31,
   "metadata": {
    "collapsed": false
   },
   "outputs": [
    {
     "ename": "TypeError",
     "evalue": "append() takes exactly one argument (2 given)",
     "output_type": "error",
     "traceback": [
      "\u001b[0;31m---------------------------------------------------------------------------\u001b[0m",
      "\u001b[0;31mTypeError\u001b[0m                                 Traceback (most recent call last)",
      "\u001b[0;32m<ipython-input-31-98e3fe315954>\u001b[0m in \u001b[0;36m<module>\u001b[0;34m()\u001b[0m\n\u001b[1;32m      9\u001b[0m             \u001b[0mheaders\u001b[0m\u001b[0;34m.\u001b[0m\u001b[0mappend\u001b[0m\u001b[0;34m(\u001b[0m\u001b[0mth\u001b[0m\u001b[0;34m.\u001b[0m\u001b[0mtext\u001b[0m\u001b[0;34m)\u001b[0m\u001b[0;34m\u001b[0m\u001b[0m\n\u001b[1;32m     10\u001b[0m     \u001b[0mschedule\u001b[0m \u001b[0;34m=\u001b[0m \u001b[0mpd\u001b[0m\u001b[0;34m.\u001b[0m\u001b[0mDataFrame\u001b[0m\u001b[0;34m(\u001b[0m\u001b[0mlist_vals\u001b[0m\u001b[0;34m,\u001b[0m \u001b[0mcolumns\u001b[0m\u001b[0;34m=\u001b[0m\u001b[0mheaders\u001b[0m\u001b[0;34m)\u001b[0m\u001b[0;34m\u001b[0m\u001b[0m\n\u001b[0;32m---> 11\u001b[0;31m \u001b[0m_get_schedule\u001b[0m\u001b[0;34m(\u001b[0m\u001b[0msoup\u001b[0m\u001b[0;34m)\u001b[0m\u001b[0;34m\u001b[0m\u001b[0m\n\u001b[0m",
      "\u001b[0;32m<ipython-input-31-98e3fe315954>\u001b[0m in \u001b[0;36m_get_schedule\u001b[0;34m(soup)\u001b[0m\n\u001b[1;32m      5\u001b[0m     \u001b[0;32mfor\u001b[0m \u001b[0mii\u001b[0m\u001b[0;34m,\u001b[0m\u001b[0mth\u001b[0m \u001b[0;32min\u001b[0m \u001b[0menumerate\u001b[0m\u001b[0;34m(\u001b[0m\u001b[0mtab\u001b[0m\u001b[0;34m.\u001b[0m\u001b[0mfind\u001b[0m\u001b[0;34m(\u001b[0m\u001b[0;34m'thead'\u001b[0m\u001b[0;34m)\u001b[0m\u001b[0;34m.\u001b[0m\u001b[0mfindAll\u001b[0m\u001b[0;34m(\u001b[0m\u001b[0;34m'th'\u001b[0m\u001b[0;34m)\u001b[0m\u001b[0;34m)\u001b[0m\u001b[0;34m:\u001b[0m\u001b[0;34m\u001b[0m\u001b[0m\n\u001b[1;32m      6\u001b[0m         \u001b[0;32mif\u001b[0m \u001b[0mth\u001b[0m\u001b[0;34m.\u001b[0m\u001b[0mtext\u001b[0m\u001b[0;34m==\u001b[0m\u001b[0;34m''\u001b[0m\u001b[0;34m:\u001b[0m\u001b[0;34m\u001b[0m\u001b[0m\n\u001b[0;32m----> 7\u001b[0;31m             \u001b[0mheaders\u001b[0m\u001b[0;34m.\u001b[0m\u001b[0mappend\u001b[0m\u001b[0;34m(\u001b[0m\u001b[0;34m'None'\u001b[0m\u001b[0;34m,\u001b[0m\u001b[0mii\u001b[0m\u001b[0;34m)\u001b[0m\u001b[0;34m\u001b[0m\u001b[0m\n\u001b[0m\u001b[1;32m      8\u001b[0m         \u001b[0;32melse\u001b[0m\u001b[0;34m:\u001b[0m\u001b[0;34m\u001b[0m\u001b[0m\n\u001b[1;32m      9\u001b[0m             \u001b[0mheaders\u001b[0m\u001b[0;34m.\u001b[0m\u001b[0mappend\u001b[0m\u001b[0;34m(\u001b[0m\u001b[0mth\u001b[0m\u001b[0;34m.\u001b[0m\u001b[0mtext\u001b[0m\u001b[0;34m)\u001b[0m\u001b[0;34m\u001b[0m\u001b[0m\n",
      "\u001b[0;31mTypeError\u001b[0m: append() takes exactly one argument (2 given)"
     ]
    }
   ],
   "source": [
    "def _get_schedule(soup):\n",
    "    tab = soup.find('table',{'id':'games'})\n",
    "    list_vals = pd.read_html('<table>' + str(tab.find('tbody'))+'</table>')\n",
    "    headers = []\n",
    "    for ii,th in enumerate(tab.find('thead').findAll('th')):\n",
    "        if th.text=='':\n",
    "            headers.append('None',ii)\n",
    "        else:\n",
    "            headers.append(th.text)\n",
    "    schedule = pd.DataFrame(list_vals, columns=headers)\n",
    "_get_schedule(soup)"
   ]
  },
  {
   "cell_type": "code",
   "execution_count": null,
   "metadata": {
    "collapsed": true
   },
   "outputs": [],
   "source": []
  }
 ],
 "metadata": {
  "kernelspec": {
   "display_name": "Python 2",
   "language": "python",
   "name": "python2"
  },
  "language_info": {
   "codemirror_mode": {
    "name": "ipython",
    "version": 2
   },
   "file_extension": ".py",
   "mimetype": "text/x-python",
   "name": "python",
   "nbconvert_exporter": "python",
   "pygments_lexer": "ipython2",
   "version": "2.7.12"
  }
 },
 "nbformat": 4,
 "nbformat_minor": 1
}
