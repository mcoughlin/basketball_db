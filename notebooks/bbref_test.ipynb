{
 "cells": [
  {
   "cell_type": "code",
   "execution_count": 1,
   "metadata": {
    "collapsed": true
   },
   "outputs": [],
   "source": [
    "from bs4 import BeautifulSoup\n",
    "import requests\n",
    "import pandas as pd\n",
    "from collections import OrderedDict\n",
    "from datetime import datetime\n",
    "# also requires:\n",
    "# `pip install tables`\n",
    "# to be able to write to hdf5 files"
   ]
  },
  {
   "cell_type": "code",
   "execution_count": 2,
   "metadata": {
    "collapsed": false
   },
   "outputs": [],
   "source": [
    "BASE_URL = 'http://www.basketball-reference.com/'\n",
    "TEAM = 'MIN'\n",
    "YR = 2017 # second year in 2016/2017\n",
    "soup = BeautifulSoup(requests.get('http://www.basketball-reference.com/teams/%s/%d_games.html' % (TEAM, YR)).text,'lxml')"
   ]
  },
  {
   "cell_type": "code",
   "execution_count": 3,
   "metadata": {
    "collapsed": false
   },
   "outputs": [
    {
     "name": "stdout",
     "output_type": "stream",
     "text": [
      "/boxscores/201610260MEM.html\n"
     ]
    }
   ],
   "source": [
    "# extract box score link\n",
    "box_scores = soup.find('table',{'id':'games'}).findAll('td',{'data-stat':'box_score_text'})\n",
    "links = [box_scores[ii].a['href'] for ii in range(len(box_scores))]\n",
    "print links[0]"
   ]
  },
  {
   "cell_type": "code",
   "execution_count": 4,
   "metadata": {
    "collapsed": false
   },
   "outputs": [
    {
     "name": "stdout",
     "output_type": "stream",
     "text": [
      "http://www.basketball-reference.com/boxscores/pbp/201610260MEM.html\n",
      "http://www.basketball-reference.com/boxscores/shot-chart/201610260MEM.html\n",
      "http://www.basketball-reference.com//boxscores/201610260MEM.html\n"
     ]
    }
   ],
   "source": [
    "# create play by play link\n",
    "def _get_pbp_link(link):\n",
    "    sp = link.split('/')\n",
    "    newlink = sp[-2] + '/pbp/' + sp[-1]\n",
    "    return newlink\n",
    "def _get_shot_chart_link(link):\n",
    "    sp = link.split('/')\n",
    "    newlink = sp[-2] + '/shot-chart/' + sp[-1]\n",
    "    return newlink\n",
    "pbp_links = [_get_pbp_link(link) for link in links]\n",
    "sc_links = [_get_shot_chart_link(link) for link in links]\n",
    "bs_links = [BASE_URL+link for link in links]\n",
    "print BASE_URL + pbp_links[0]\n",
    "print BASE_URL + sc_links[0]\n",
    "print bs_links[0]"
   ]
  },
  {
   "cell_type": "code",
   "execution_count": 5,
   "metadata": {
    "collapsed": false
   },
   "outputs": [],
   "source": [
    "# extract table from pbp page\n",
    "soup_pbp = BeautifulSoup(requests.get(BASE_URL+pbp_links[0]).text,'lxml')\n",
    "\n",
    "table = soup_pbp.find('table',{'id':'pbp'})\n",
    "rows =table.findAll('tr')\n",
    "data = {}\n",
    "data['times'] = []\n",
    "data['ht_plays'] = []\n",
    "data['at_plays'] = []\n",
    "data['score_after'] = []\n",
    "data['ht_pts'] = []\n",
    "data['at_pts'] = []\n",
    "data['qrtr'] = []\n",
    "qrtr = 0\n",
    "for row in rows:\n",
    "    dat = row.findAll('td')\n",
    "    if len(dat)== 2 and dat[1].text[:5]=='Start':\n",
    "        qrtr += 1\n",
    "    if len(dat)==6:\n",
    "        data['times'].append(dat[0].text)\n",
    "        data['ht_plays'].append(dat[1].text)\n",
    "        data['ht_pts'].append(dat[2].text)\n",
    "        data['score_after'].append(dat[3].text)\n",
    "        data['at_pts'].append(dat[4].text)\n",
    "        data['at_plays'].append(dat[5].text)\n",
    "        data['qrtr'].append(qrtr)\n",
    "        \n",
    "pbpFrame = pd.DataFrame(data)"
   ]
  },
  {
   "cell_type": "code",
   "execution_count": 6,
   "metadata": {
    "collapsed": false
   },
   "outputs": [],
   "source": [
    "soup_sc = BeautifulSoup(requests.get(BASE_URL+sc_links[0]).text,'lxml')\n",
    "\n",
    "def _extract_shot_chart(soup_sc, team=None):\n",
    "    id_tag = 'shots-' + team.upper()\n",
    "    court_width=50\n",
    "    court_len=47\n",
    "    shot_dict = {}\n",
    "    shot_dict['shot_xs'] = []\n",
    "    shot_dict['shot_ys'] = []\n",
    "    shot_dict['shot_time'] = []\n",
    "    shot_dict['player'] = []\n",
    "    shots = soup_sc.find('div',{'id':id_tag}).findAll('div',{'class','tooltip'})\n",
    "    for shot in shots:\n",
    "        sp = shot['tip'].split('<br>')\n",
    "        shot_dict['player'].append(shot['class'][2][2:])\n",
    "        shot_dict['shot_time'].append(sp[0].split(',')[1][1:-10])\n",
    "        # get shot coordinates. Image is 500 x 472 px,\n",
    "        # court is 50 ft. x 47 ft, so just divide by 10.\n",
    "        shot_dict['shot_xs'].append(int(shot['style'].split(':')[-1][:-3])/10.)\n",
    "        shot_dict['shot_ys'].append(int(shot['style'].split(':')[1][:-7])/10.)\n",
    "\n",
    "    shotFrame = pd.DataFrame(shot_dict)\n",
    "    return shotFrame\n",
    "shotFrame = _extract_shot_chart(soup_sc, team='mem')"
   ]
  },
  {
   "cell_type": "code",
   "execution_count": 7,
   "metadata": {
    "collapsed": false
   },
   "outputs": [
    {
     "name": "stderr",
     "output_type": "stream",
     "text": [
      "/Users/meyers/opt/bball/lib/python2.7/site-packages/pandas/core/generic.py:1138: PerformanceWarning: \n",
      "your performance may suffer as PyTables will pickle object types that it cannot\n",
      "map directly to c-types [inferred_type->unicode,key->block1_values] [items->['at_plays', 'at_pts', 'ht_plays', 'ht_pts', 'score_after', 'times']]\n",
      "\n",
      "  return pytables.to_hdf(path_or_buf, key, self, **kwargs)\n"
     ]
    }
   ],
   "source": [
    "shotFrame.to_hdf('test_game.hdf5','shotFrame')\n",
    "pbpFrame.to_hdf('test_game.hdf5','pbpFrame')"
   ]
  },
  {
   "cell_type": "code",
   "execution_count": 8,
   "metadata": {
    "collapsed": false
   },
   "outputs": [
    {
     "name": "stdout",
     "output_type": "stream",
     "text": [
      "http://www.basketball-reference.com//boxscores/201610260MEM.html\n",
      "       Starters     MP    FG   FGA    FG%   3P   3PA    3P%    FT   FTA  ...   \\\n",
      "0     townska01  36:29   9.0  20.0  0.450  2.0   5.0  0.400   1.0   1.0  ...    \n",
      "1     wiggian01  34:29   7.0  14.0  0.500  1.0   1.0  1.000  10.0  14.0  ...    \n",
      "2     dienggo01  34:01   5.0  10.0  0.500  0.0   1.0  0.000   2.0   2.0  ...    \n",
      "3     lavinza01  33:50   6.0  14.0  0.429  3.0   6.0  0.500   4.0   5.0  ...    \n",
      "4     rubiori01  33:27   1.0   5.0  0.200  0.0   1.0  0.000   2.0   5.0  ...    \n",
      "5     bjeline01  15:23   1.0   4.0  0.250  0.0   1.0  0.000   1.0   2.0  ...    \n",
      "6      dunnkr01  15:13   4.0   6.0  0.667  0.0   1.0  0.000   0.0   0.0  ...    \n",
      "7      rushbr01  13:39   0.0   3.0  0.000  0.0   1.0  0.000   0.0   0.0  ...    \n",
      "8     muhamsh01  13:31   1.0   6.0  0.167  0.0   1.0  0.000   0.0   0.0  ...    \n",
      "9     aldrico01   9:58   2.0   4.0  0.500  0.0   0.0  0.000   0.0   0.0  ...    \n",
      "10  Team Totals    240  36.0  86.0  0.419  6.0  18.0  0.333  20.0  29.0  ...    \n",
      "\n",
      "     ORB   DRB   TRB   AST  STL  BLK   TOV    PF   PTS   +/-  \n",
      "0    2.0   2.0   4.0   5.0  1.0  1.0   2.0   3.0  21.0 -13.0  \n",
      "1    4.0   3.0   7.0   0.0  0.0  1.0   2.0   1.0  25.0  -5.0  \n",
      "2    5.0   9.0  14.0   2.0  2.0  1.0   0.0   3.0  12.0   0.0  \n",
      "3    0.0   5.0   5.0   3.0  1.0  0.0   2.0   3.0  19.0  -4.0  \n",
      "4    1.0   3.0   4.0   8.0  0.0  0.0   2.0   4.0   4.0  -1.0  \n",
      "5    0.0   1.0   1.0   0.0  0.0  1.0   0.0   3.0   3.0   0.0  \n",
      "6    1.0   3.0   4.0   1.0  1.0  0.0   1.0   3.0   8.0  -6.0  \n",
      "7    0.0   2.0   2.0   1.0  0.0  0.0   1.0   1.0   0.0   3.0  \n",
      "8    1.0   1.0   2.0   0.0  0.0  0.0   0.0   0.0   2.0   1.0  \n",
      "9    1.0   1.0   2.0   0.0  1.0  1.0   0.0   2.0   4.0   5.0  \n",
      "10  15.0  30.0  45.0  20.0  6.0  5.0  10.0  23.0  98.0   0.0  \n",
      "\n",
      "[11 rows x 21 columns]\n",
      "      Starters     MP    FG   FGA    FG%    3P   3PA    3P%    FT   FTA  ...   \\\n",
      "0    harrian01  38:12   1.0   7.0  0.143   0.0   4.0  0.000   2.0   4.0  ...    \n",
      "1    gasolma01  32:27   7.0  17.0  0.412   1.0   3.0  0.333   3.0   4.0  ...    \n",
      "2    conlemi01  29:39   8.0  14.0  0.571   4.0   5.0  0.800   4.0   5.0  ...    \n",
      "3    greenja01  28:43   4.0  10.0  0.400   2.0   2.0  1.000   2.0   2.0  ...    \n",
      "4    ennisja01  28:11   5.0   8.0  0.625   2.0   4.0  0.500   3.0   4.0  ...    \n",
      "5    cartevi01  28:05   1.0   4.0  0.250   0.0   2.0  0.000   1.0   2.0  ...    \n",
      "6    randoza01  24:33   7.0  12.0  0.583   1.0   2.0  0.500   4.0   6.0  ...    \n",
      "7    baldwwa01  24:31   3.0   8.0  0.375   1.0   2.0  0.500   0.0   0.0  ...    \n",
      "8    davisde01   5:39   0.0   0.0  0.000   0.0   0.0  0.000   0.0   0.0  ...    \n",
      "9  Team Totals    240  36.0  80.0  0.450  11.0  24.0  0.458  19.0  27.0  ...    \n",
      "\n",
      "    ORB   DRB   TRB   AST  STL   BLK   TOV    PF    PTS   +/-  \n",
      "0   1.0   2.0   3.0   4.0  1.0   0.0   3.0   3.0    4.0   8.0  \n",
      "1   1.0   2.0   3.0   2.0  0.0   4.0   4.0   2.0   18.0   4.0  \n",
      "2   0.0   1.0   1.0   4.0  0.0   1.0   2.0   5.0   24.0  -3.0  \n",
      "3   4.0   3.0   7.0   1.0  0.0   1.0   1.0   4.0   12.0   4.0  \n",
      "4   1.0   5.0   6.0   0.0  1.0   0.0   0.0   3.0   15.0 -12.0  \n",
      "5   1.0   6.0   7.0   1.0  1.0   1.0   0.0   3.0    3.0  10.0  \n",
      "6   1.0  10.0  11.0   1.0  0.0   0.0   2.0   1.0   19.0  -1.0  \n",
      "7   2.0   3.0   5.0   6.0  3.0   3.0   1.0   2.0    7.0   3.0  \n",
      "8   0.0   2.0   2.0   0.0  0.0   1.0   0.0   2.0    0.0   7.0  \n",
      "9  11.0  34.0  45.0  19.0  6.0  11.0  13.0  25.0  102.0   0.0  \n",
      "\n",
      "[10 rows x 21 columns]\n"
     ]
    }
   ],
   "source": [
    "soup_bs = BeautifulSoup(requests.get(bs_links[0]).text,'lxml')\n",
    "print bs_links[0]\n",
    "def extract_box_score(soup_bs, team=None):\n",
    "    id_tag = 'box_' + team.lower() + '_basic'\n",
    "    tab = soup_bs.find('table',{'id':id_tag})\n",
    "    if len(tab)==0:\n",
    "        raise ValueError('You entered team: %s, which does not have a box score on this page' % team)\n",
    "    header_strs = [td.text for td in tab.findAll('tr')[1].findAll('th')]\n",
    "    box_score = OrderedDict()\n",
    "    for h in header_strs:\n",
    "        box_score[h] = []\n",
    "    for ii,tr in enumerate(tab.findAll('tr')):\n",
    "        tds = [td.text for td in tr.findAll('td')]\n",
    "        # if we're at the last row...continue\n",
    "        # if we have more than one non-header column\n",
    "        if len(tds) > 1:\n",
    "            # loop through header strings\n",
    "            for jj, head in enumerate(header_strs):\n",
    "                if jj == 0:\n",
    "                    # if we're on the first header string, then it's the player's name\n",
    "                    # and that's in a <th> tag, not <td> tag. If it's the last row,\n",
    "                    # then the player's \"name\" (\"Team Totals\") is in a different type\n",
    "                    # of th tag.\n",
    "                    if ii == len(tab.findAll('tr')) - 1:\n",
    "                        box_score[head].append(tr.find('th').text)\n",
    "                    else:\n",
    "                        box_score[head].append(tr.find('th')['data-append-csv'])\n",
    "                    continue\n",
    "                else:\n",
    "                    # otherwise, we loop through tds, and since\n",
    "                    # these are indexed off-set from headers (since\n",
    "                    # player names start), we index with jj-1\n",
    "                    if jj ==1:\n",
    "                        box_score[head].append(tds[jj-1])\n",
    "                    else:\n",
    "                        if tds[jj-1]=='':\n",
    "                            tds[jj-1] = 0\n",
    "                        box_score[head].append(float(tds[jj-1]))\n",
    "    box_score = pd.DataFrame(box_score)\n",
    "    return box_score\n",
    "\n",
    "away_bs = extract_box_score(soup_bs, team='min')\n",
    "home_bs = extract_box_score(soup_bs, team='mem')\n",
    "print away_bs\n",
    "print home_bs\n"
   ]
  },
  {
   "cell_type": "code",
   "execution_count": 9,
   "metadata": {
    "collapsed": false
   },
   "outputs": [
    {
     "name": "stdout",
     "output_type": "stream",
     "text": [
      "mem\n",
      "min\n"
     ]
    }
   ],
   "source": [
    "def _get_team(soup_bs,team='home'):\n",
    "    score_div = soup_bs.find('div',{'class':'scorebox'})\n",
    "    if team == 'home':\n",
    "        t = score_div.findAll('strong')[1].a['href'].split('/')[2].lower()\n",
    "    elif team=='away':\n",
    "        t = score_div.findAll('strong')[0].a['href'].split('/')[2].lower()\n",
    "    else:\n",
    "        raise ValueError('team must be either \"home\" or \"away\". Default is \"home\"')\n",
    "    return t\n",
    "print _get_team(soup_bs, team='home')\n",
    "print _get_team(soup_bs, team='away')"
   ]
  },
  {
   "cell_type": "code",
   "execution_count": 10,
   "metadata": {
    "collapsed": false
   },
   "outputs": [
    {
     "name": "stdout",
     "output_type": "stream",
     "text": [
      "2016-10-26 00:00:00\n"
     ]
    }
   ],
   "source": [
    "def _get_date(soup_bs):\n",
    "    content_div = soup_bs.find('div',{'id':'content'})\n",
    "    month_day = content_div.find('h1').text.split(',')[-2]\n",
    "    year = content_div.find('h1').text.split(',')[-1]\n",
    "    date = datetime.strptime(month_day.strip() + year,'%B %d %Y')\n",
    "    return date\n",
    "date = _get_date(soup_bs)\n",
    "print date"
   ]
  },
  {
   "cell_type": "code",
   "execution_count": 23,
   "metadata": {
    "collapsed": true
   },
   "outputs": [],
   "source": [
    "?pd.DataFrame()"
   ]
  },
  {
   "cell_type": "code",
   "execution_count": 70,
   "metadata": {
    "collapsed": false
   },
   "outputs": [
    {
     "name": "stdout",
     "output_type": "stream",
     "text": [
      "['g', 'date_game', 'game_start_time', 'network', 'box_score_text', 'game_location', 'opp_name', 'game_result', 'overtimes', 'pts', 'opp_pts', 'wins', 'losses', 'game_streak', 'game_remarks']\n",
      "<class 'pandas.core.series.Series'>\n",
      "     g          date_game game_start_time network box_score_text  \\\n",
      "0    1  Wed, Oct 26, 2016        8:00p ET      --      Box Score   \n",
      "1    2  Sat, Oct 29, 2016       10:30p ET      --      Box Score   \n",
      "2    3   Tue, Nov 1, 2016        8:00p ET      --      Box Score   \n",
      "3    4   Thu, Nov 3, 2016        8:00p ET      --      Box Score   \n",
      "4    5   Sat, Nov 5, 2016        6:00p ET      --      Box Score   \n",
      "5    6   Tue, Nov 8, 2016        7:30p ET      --      Box Score   \n",
      "6    7   Wed, Nov 9, 2016        7:00p ET      --      Box Score   \n",
      "7    8  Sat, Nov 12, 2016        8:00p ET      --      Box Score   \n",
      "8    9  Sun, Nov 13, 2016        7:00p ET      --      Box Score   \n",
      "9   10  Tue, Nov 15, 2016        8:00p ET      --      Box Score   \n",
      "10  11  Thu, Nov 17, 2016        8:00p ET      --      Box Score   \n",
      "11  12  Sat, Nov 19, 2016        8:00p ET      --      Box Score   \n",
      "12  13  Mon, Nov 21, 2016        8:00p ET      --      Box Score   \n",
      "13  14  Wed, Nov 23, 2016        9:30p ET      --      Box Score   \n",
      "14  15  Fri, Nov 25, 2016        9:00p ET      --      Box Score   \n",
      "15  16  Sat, Nov 26, 2016       10:30p ET      --             --   \n",
      "16  17  Mon, Nov 28, 2016        8:00p ET      --             --   \n",
      "17  18  Wed, Nov 30, 2016        8:00p ET      --             --   \n",
      "18  19   Fri, Dec 2, 2016        7:30p ET      --             --   \n",
      "19  20   Sat, Dec 3, 2016        7:00p ET      --             --   \n",
      "20   G               Date              --      --             --   \n",
      "21  21   Tue, Dec 6, 2016        8:00p ET      --             --   \n",
      "22  22   Thu, Dec 8, 2016        7:00p ET      --             --   \n",
      "23  23   Fri, Dec 9, 2016        8:00p ET      --             --   \n",
      "24  24  Sun, Dec 11, 2016        7:00p ET      --             --   \n",
      "25  25  Tue, Dec 13, 2016        8:00p ET      --             --   \n",
      "26  26  Sat, Dec 17, 2016        8:00p ET      --             --   \n",
      "27  27  Mon, Dec 19, 2016        8:00p ET      --             --   \n",
      "28  28  Wed, Dec 21, 2016        7:30p ET      --             --   \n",
      "29  29  Fri, Dec 23, 2016        8:00p ET      --             --   \n",
      "..  ..                ...             ...     ...            ...   \n",
      "56  55  Sun, Feb 12, 2017        3:30p ET      --             --   \n",
      "57  56  Tue, Feb 14, 2017        8:00p ET      --             --   \n",
      "58  57  Wed, Feb 15, 2017        9:00p ET      --             --   \n",
      "59  58  Fri, Feb 24, 2017        8:00p ET      --             --   \n",
      "60  59  Sat, Feb 25, 2017        9:00p ET      --             --   \n",
      "61  60  Mon, Feb 27, 2017       10:30p ET      --             --   \n",
      "62   G               Date              --      --             --   \n",
      "63  61   Wed, Mar 1, 2017        9:00p ET      --             --   \n",
      "64  62   Sat, Mar 4, 2017        9:00p ET      --             --   \n",
      "65  63   Mon, Mar 6, 2017        8:00p ET      --             --   \n",
      "66  64   Wed, Mar 8, 2017        8:00p ET      --             --   \n",
      "67  65  Fri, Mar 10, 2017        8:00p ET      --             --   \n",
      "68  66  Sat, Mar 11, 2017        8:00p ET      --             --   \n",
      "69  67  Mon, Mar 13, 2017        8:00p ET      --             --   \n",
      "70  68  Wed, Mar 15, 2017        7:30p ET      --             --   \n",
      "71  69  Fri, Mar 17, 2017        8:00p ET      --             --   \n",
      "72  70  Sun, Mar 19, 2017        6:00p ET      --             --   \n",
      "73  71  Tue, Mar 21, 2017        9:30p ET      --             --   \n",
      "74  72  Fri, Mar 24, 2017       10:30p ET      --             --   \n",
      "75  73  Sat, Mar 25, 2017       10:00p ET      --             --   \n",
      "76  74  Tue, Mar 28, 2017        7:00p ET      --             --   \n",
      "77  75  Thu, Mar 30, 2017        8:00p ET      --             --   \n",
      "78  76   Sat, Apr 1, 2017        8:00p ET      --             --   \n",
      "79  77   Tue, Apr 4, 2017       10:30p ET      --             --   \n",
      "80  78   Thu, Apr 6, 2017       10:30p ET      --             --   \n",
      "81  79   Fri, Apr 7, 2017        9:00p ET      --             --   \n",
      "82  80   Sun, Apr 9, 2017        9:30p ET      --             --   \n",
      "83   G               Date              --      --             --   \n",
      "84  81  Tue, Apr 11, 2017        8:00p ET      --             --   \n",
      "85  82  Wed, Apr 12, 2017        8:00p ET      --             --   \n",
      "\n",
      "   game_location                opp_name game_result  overtimes  pts opp_pts  \\\n",
      "0              A       Memphis Grizzlies           L        0.0   98     102   \n",
      "1              A        Sacramento Kings           L        0.0  103     106   \n",
      "2              H       Memphis Grizzlies           W        0.0  116      80   \n",
      "3              H          Denver Nuggets           L        0.0   99     102   \n",
      "4              A   Oklahoma City Thunder           L        0.0   92     112   \n",
      "5              A           Brooklyn Nets           L        0.0  110     119   \n",
      "6              A           Orlando Magic           W        0.0  123     107   \n",
      "7              H    Los Angeles Clippers           L        0.0  105     119   \n",
      "8              H      Los Angeles Lakers           W        0.0  125      99   \n",
      "9              H       Charlotte Hornets           L        0.0  108     115   \n",
      "10             H      Philadelphia 76ers           W        0.0  110      86   \n",
      "11             A       Memphis Grizzlies           L        0.0   71      93   \n",
      "12             H          Boston Celtics           L        0.0   93      99   \n",
      "13             A    New Orleans Pelicans           L        0.0   96     117   \n",
      "14             A            Phoenix Suns           W        0.0   98      85   \n",
      "15             A   Golden State Warriors          --        0.0   --      --   \n",
      "16             H               Utah Jazz          --        0.0   --      --   \n",
      "17             H         New York Knicks          --        0.0   --      --   \n",
      "18             A         New York Knicks          --        0.0   --      --   \n",
      "19             A       Charlotte Hornets          --        0.0   --      --   \n",
      "20             H                Opponent          --        0.0   Tm     Opp   \n",
      "21             H       San Antonio Spurs          --        0.0   --      --   \n",
      "22             A         Toronto Raptors          --        0.0   --      --   \n",
      "23             H         Detroit Pistons          --        0.0   --      --   \n",
      "24             H   Golden State Warriors          --        0.0   --      --   \n",
      "25             A           Chicago Bulls          --        0.0   --      --   \n",
      "26             H         Houston Rockets          --        0.0   --      --   \n",
      "27             H            Phoenix Suns          --        0.0   --      --   \n",
      "28             A           Atlanta Hawks          --        0.0   --      --   \n",
      "29             H        Sacramento Kings          --        0.0   --      --   \n",
      "..           ...                     ...         ...        ...  ...     ...   \n",
      "56             H           Chicago Bulls          --        0.0   --      --   \n",
      "57             H     Cleveland Cavaliers          --        0.0   --      --   \n",
      "58             A          Denver Nuggets          --        0.0   --      --   \n",
      "59             H        Dallas Mavericks          --        0.0   --      --   \n",
      "60             A         Houston Rockets          --        0.0   --      --   \n",
      "61             A        Sacramento Kings          --        0.0   --      --   \n",
      "62             H                Opponent          --        0.0   Tm     Opp   \n",
      "63             A               Utah Jazz          --        0.0   --      --   \n",
      "64             A       San Antonio Spurs          --        0.0   --      --   \n",
      "65             H  Portland Trail Blazers          --        0.0   --      --   \n",
      "66             H    Los Angeles Clippers          --        0.0   --      --   \n",
      "67             H   Golden State Warriors          --        0.0   --      --   \n",
      "68             A         Milwaukee Bucks          --        0.0   --      --   \n",
      "69             H      Washington Wizards          --        0.0   --      --   \n",
      "70             A          Boston Celtics          --        0.0   --      --   \n",
      "71             A              Miami Heat          --        0.0   --      --   \n",
      "72             A    New Orleans Pelicans          --        0.0   --      --   \n",
      "73             H       San Antonio Spurs          --        0.0   --      --   \n",
      "74             A      Los Angeles Lakers          --        0.0   --      --   \n",
      "75             A  Portland Trail Blazers          --        0.0   --      --   \n",
      "76             A          Indiana Pacers          --        0.0   --      --   \n",
      "77             H      Los Angeles Lakers          --        0.0   --      --   \n",
      "78             H        Sacramento Kings          --        0.0   --      --   \n",
      "79             A   Golden State Warriors          --        0.0   --      --   \n",
      "80             A  Portland Trail Blazers          --        0.0   --      --   \n",
      "81             A               Utah Jazz          --        0.0   --      --   \n",
      "82             A      Los Angeles Lakers          --        0.0   --      --   \n",
      "83             H                Opponent          --        0.0   Tm     Opp   \n",
      "84             H   Oklahoma City Thunder          --        0.0   --      --   \n",
      "85             A         Houston Rockets          --        0.0   --      --   \n",
      "\n",
      "   wins losses game_streak game_remarks  \n",
      "0     0      1         L 1           --  \n",
      "1     0      2         L 2           --  \n",
      "2     1      2         W 1           --  \n",
      "3     1      3         L 1           --  \n",
      "4     1      4         L 2           --  \n",
      "5     1      5         L 3           --  \n",
      "6     2      5         W 1           --  \n",
      "7     2      6         L 1           --  \n",
      "8     3      6         W 1           --  \n",
      "9     3      7         L 1           --  \n",
      "10    4      7         W 1           --  \n",
      "11    4      8         L 1           --  \n",
      "12    4      9         L 2           --  \n",
      "13    4     10         L 3           --  \n",
      "14    5     10         W 1           --  \n",
      "15   --     --          --           --  \n",
      "16   --     --          --           --  \n",
      "17   --     --          --           --  \n",
      "18   --     --          --           --  \n",
      "19   --     --          --           --  \n",
      "20    W      L      Streak        Notes  \n",
      "21   --     --          --           --  \n",
      "22   --     --          --           --  \n",
      "23   --     --          --           --  \n",
      "24   --     --          --           --  \n",
      "25   --     --          --           --  \n",
      "26   --     --          --           --  \n",
      "27   --     --          --           --  \n",
      "28   --     --          --           --  \n",
      "29   --     --          --           --  \n",
      "..  ...    ...         ...          ...  \n",
      "56   --     --          --           --  \n",
      "57   --     --          --           --  \n",
      "58   --     --          --           --  \n",
      "59   --     --          --           --  \n",
      "60   --     --          --           --  \n",
      "61   --     --          --           --  \n",
      "62    W      L      Streak        Notes  \n",
      "63   --     --          --           --  \n",
      "64   --     --          --           --  \n",
      "65   --     --          --           --  \n",
      "66   --     --          --           --  \n",
      "67   --     --          --           --  \n",
      "68   --     --          --           --  \n",
      "69   --     --          --           --  \n",
      "70   --     --          --           --  \n",
      "71   --     --          --           --  \n",
      "72   --     --          --           --  \n",
      "73   --     --          --           --  \n",
      "74   --     --          --           --  \n",
      "75   --     --          --           --  \n",
      "76   --     --          --           --  \n",
      "77   --     --          --           --  \n",
      "78   --     --          --           --  \n",
      "79   --     --          --           --  \n",
      "80   --     --          --           --  \n",
      "81   --     --          --           --  \n",
      "82   --     --          --           --  \n",
      "83    W      L      Streak        Notes  \n",
      "84   --     --          --           --  \n",
      "85   --     --          --           --  \n",
      "\n",
      "[86 rows x 15 columns]\n"
     ]
    }
   ],
   "source": [
    "import numpy as np\n",
    "def _get_schedule(soup):\n",
    "    tab = soup.find('table',{'id':'games'})\n",
    "    list_vals =pd.read_html('<table>' + str(tab.find('tbody'))+'</table>')\n",
    "    headers = []\n",
    "    sched = list_vals[0]\n",
    "    for ii,th in enumerate(tab.find('thead').findAll('th')):\n",
    "            headers.append(th['data-stat'])\n",
    "    print headers\n",
    "    sched.columns = headers\n",
    "    # fix game locations\n",
    "    print type(sched['game_location'])\n",
    "    away = np.where(sched['game_location']=='@')\n",
    "    sched['game_location'] = sched['game_location'].replace('@','A')\n",
    "    sched['game_location'] = sched['game_location'].replace(np.nan,'H')\n",
    "    sched['overtimes'] = sched['overtimes'].replace(np.nan,0)\n",
    "    sched = sched.replace(np.nan,'--')\n",
    "    return sched\n",
    "print _get_schedule(soup)\n"
   ]
  },
  {
   "cell_type": "code",
   "execution_count": null,
   "metadata": {
    "collapsed": true
   },
   "outputs": [],
   "source": []
  }
 ],
 "metadata": {
  "kernelspec": {
   "display_name": "Python 2",
   "language": "python",
   "name": "python2"
  },
  "language_info": {
   "codemirror_mode": {
    "name": "ipython",
    "version": 2
   },
   "file_extension": ".py",
   "mimetype": "text/x-python",
   "name": "python",
   "nbconvert_exporter": "python",
   "pygments_lexer": "ipython2",
   "version": "2.7.12"
  }
 },
 "nbformat": 4,
 "nbformat_minor": 1
}
