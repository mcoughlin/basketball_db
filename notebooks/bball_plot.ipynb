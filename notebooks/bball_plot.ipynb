{
 "cells": [
  {
   "cell_type": "code",
   "execution_count": 1,
   "metadata": {
    "collapsed": false
   },
   "outputs": [],
   "source": [
    "import pandas as pd\n",
    "import matplotlib.pyplot as plt\n",
    "from court import bball_court_half"
   ]
  },
  {
   "cell_type": "code",
   "execution_count": 9,
   "metadata": {
    "collapsed": false
   },
   "outputs": [
    {
     "name": "stdout",
     "output_type": "stream",
     "text": [
      "(3, 5)\n",
      "                                    full_description              player  \\\n",
      "0  1st quarter, 11:15.0 remaining<br>Karl-Anthony...  Karl-Anthony Towns   \n",
      "1  1st quarter, 10:44.0 remaining<br>Karl-Anthony...  Karl-Anthony Towns   \n",
      "2  1st quarter, 10:23.0 remaining<br>Andrew Wiggi...      Andrew Wiggins   \n",
      "\n",
      "  shot_time  shot_xs  shot_ys result  \n",
      "0   11:15.0     35.2     10.2   True  \n",
      "1   10:44.0     10.2     27.2   True  \n",
      "2   10:23.0     24.0      3.1   True  \n"
     ]
    }
   ],
   "source": [
    "shots = pd.read_hdf('test_hdf','shotFrame')\n",
    "result = []\n",
    "for desc in shots['full_description']:\n",
    "    if len(desc.split('made'))==2:\n",
    "        result.append(True)\n",
    "    else:\n",
    "        result.append(False)\n",
    "print shots.shape\n",
    "shots = shots.assign(result=result)\n",
    "print shots\n"
   ]
  },
  {
   "cell_type": "code",
   "execution_count": 6,
   "metadata": {
    "collapsed": false
   },
   "outputs": [
    {
     "name": "stdout",
     "output_type": "stream",
     "text": [
      "0.400060085711\n",
      "[ 14.          14.00021875  14.00043749 ...,  14.00049179  14.00027304\n",
      "  14.0000543 ]\n",
      "[ 46.87464285  46.87455035  46.87445785 ...,   3.12556511   3.12547261\n",
      "   3.12538011]\n"
     ]
    }
   ],
   "source": [
    "plt.figure(figsize=(5,4.7))\n",
    "ax = bball_court_half()\n",
    "ax.scatter(50- shots['shot_xs'][result], shots['shot_ys'][result],c='g' )\n",
    "plt.savefig('test')\n",
    "plt.close()"
   ]
  },
  {
   "cell_type": "code",
   "execution_count": null,
   "metadata": {
    "collapsed": false
   },
   "outputs": [],
   "source": []
  },
  {
   "cell_type": "code",
   "execution_count": null,
   "metadata": {
    "collapsed": false
   },
   "outputs": [],
   "source": []
  },
  {
   "cell_type": "code",
   "execution_count": null,
   "metadata": {
    "collapsed": true
   },
   "outputs": [],
   "source": []
  }
 ],
 "metadata": {
  "kernelspec": {
   "display_name": "Python 2",
   "language": "python",
   "name": "python2"
  },
  "language_info": {
   "codemirror_mode": {
    "name": "ipython",
    "version": 2
   },
   "file_extension": ".py",
   "mimetype": "text/x-python",
   "name": "python",
   "nbconvert_exporter": "python",
   "pygments_lexer": "ipython2",
   "version": "2.7.12"
  }
 },
 "nbformat": 4,
 "nbformat_minor": 1
}
